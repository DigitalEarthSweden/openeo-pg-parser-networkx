{
 "cells": [
  {
   "cell_type": "code",
   "execution_count": null,
   "metadata": {},
   "outputs": [],
   "source": [
    "from eodc_pg_parser.graph import OpenEOProcessGraph\n",
    "import json\n",
    "\n",
    "flat_graph = json.load(open(\"../tests/data/pg-evi-example.json\", mode=\"r\"))\n",
    "parsed_graph = OpenEOProcessGraph(pg_data=flat_graph)\n",
    "\n",
    "parsed_graph.plot()"
   ]
  },
  {
   "cell_type": "markdown",
   "metadata": {},
   "source": [
    "## Executor"
   ]
  },
  {
   "cell_type": "code",
   "execution_count": 2,
   "metadata": {},
   "outputs": [],
   "source": [
    "from eodc_pg_parser.executor import OpenEOExecutor\n",
    "from eodc_pg_parser.process_registry import process_registry\n"
   ]
  },
  {
   "cell_type": "code",
   "execution_count": null,
   "metadata": {},
   "outputs": [],
   "source": [
    "for node in parsed_graph:\n",
    "    print(node)"
   ]
  },
  {
   "cell_type": "code",
   "execution_count": null,
   "metadata": {},
   "outputs": [],
   "source": [
    "executor = OpenEOExecutor(parsed_graph, process_registry)\n",
    "node_callable = executor._map_node_to_callable(parsed_graph.result_node)"
   ]
  },
  {
   "cell_type": "code",
   "execution_count": null,
   "metadata": {},
   "outputs": [],
   "source": [
    "node_callable()"
   ]
  },
  {
   "cell_type": "code",
   "execution_count": null,
   "metadata": {},
   "outputs": [],
   "source": [
    "executor.results_cache"
   ]
  },
  {
   "cell_type": "code",
   "execution_count": null,
   "metadata": {},
   "outputs": [],
   "source": []
  }
 ],
 "metadata": {
  "interpreter": {
   "hash": "7e9df96c79a27448c40f028cd3cb796ab94b2743124913fce095f77d43c50ebb"
  },
  "kernelspec": {
   "display_name": "Python 3.9.5 ('eodc-pg-parser-PV1XT9nq-py3.9')",
   "language": "python",
   "name": "python3"
  },
  "language_info": {
   "codemirror_mode": {
    "name": "ipython",
    "version": 3
   },
   "file_extension": ".py",
   "mimetype": "text/x-python",
   "name": "python",
   "nbconvert_exporter": "python",
   "pygments_lexer": "ipython3",
   "version": "3.9.5"
  },
  "orig_nbformat": 4
 },
 "nbformat": 4,
 "nbformat_minor": 2
}
