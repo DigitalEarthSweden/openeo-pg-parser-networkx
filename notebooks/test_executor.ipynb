{
 "cells": [
  {
   "cell_type": "code",
   "execution_count": 1,
   "metadata": {},
   "outputs": [
    {
     "name": "stderr",
     "output_type": "stream",
     "text": [
      "Deserialised process graph into nested structure\n"
     ]
    },
    {
     "name": "stdout",
     "output_type": "stream",
     "text": [
      "Walking node root-9309e338-8438-48ef-9fa3-bf82b8b4a53d\n",
      "Walking node filterspatial1-9309e338-8438-48ef-9fa3-bf82b8b4a53d\n",
      "Walking node loadcollection1-9309e338-8438-48ef-9fa3-bf82b8b4a53d\n"
     ]
    },
    {
     "data": {
      "image/png": "[encoded data removed]",
      "text/plain": [
       "<Figure size 640x480 with 1 Axes>"
      ]
     },
     "metadata": {},
     "output_type": "display_data"
    }
   ],
   "source": [
    "from eodc_pg_parser.graph import OpenEOProcessGraph\n",
    "import json\n",
    "\n",
    "flat_graph = json.load(open(\"../tests/data/filter_spatial.json\", mode=\"r\"))\n",
    "parsed_graph = OpenEOProcessGraph(pg_data=flat_graph)\n",
    "\n",
    "parsed_graph.plot()"
   ]
  },
  {
   "cell_type": "markdown",
   "metadata": {},
   "source": [
    "## Executor"
   ]
  },
  {
   "cell_type": "code",
   "execution_count": 2,
   "metadata": {},
   "outputs": [],
   "source": [
    "from eodc_pg_parser.executor import OpenEOExecutor\n",
    "from eodc_pg_parser.process_registry import process_registry\n"
   ]
  },
  {
   "cell_type": "code",
   "execution_count": 3,
   "metadata": {},
   "outputs": [
    {
     "name": "stdout",
     "output_type": "stream",
     "text": [
      "loadcollection1-9309e338-8438-48ef-9fa3-bf82b8b4a53d\n",
      "filterspatial1-9309e338-8438-48ef-9fa3-bf82b8b4a53d\n",
      "root-9309e338-8438-48ef-9fa3-bf82b8b4a53d\n"
     ]
    }
   ],
   "source": [
    "for node in parsed_graph:\n",
    "    print(node)"
   ]
  },
  {
   "cell_type": "code",
   "execution_count": 4,
   "metadata": {},
   "outputs": [
    {
     "name": "stdout",
     "output_type": "stream",
     "text": [
      "{'bands': ['B02', 'B03', 'B04', 'B05', 'B08'], 'id': 'boa_sentinel_2', 'spatial_extent': {'west': 10.454955, 'east': 10.573729, 'south': 46.102185, 'north': 46.213657, 'crs': 'EPSG:4326'}, 'temporal_extent': ['2019-05-01', '2019-06-01']}\n",
      "{'data': ResultReference(from_node='loadcollection1', node=ProcessNode(process_id='load_collection', namespace=None, result=False, description=None, arguments={'bands': ProcessArgument(__root__=['B02', 'B03', 'B04', 'B05', 'B08']), 'id': ProcessArgument(__root__='boa_sentinel_2'), 'spatial_extent': ProcessArgument(__root__={'west': 10.454955, 'east': 10.573729, 'south': 46.102185, 'north': 46.213657, 'crs': 'EPSG:4326'}), 'temporal_extent': ProcessArgument(__root__=['2019-05-01', '2019-06-01'])})), 'geometries': {'type': 'FeatureCollection', 'features': [{'geometry': {'type': 'Polygon', 'coordinates': [[[10.46, 46.102185], [10.57, 46.102185], [10.57, 46.15], [10.46, 46.13], [10.46, 46.102185]]]}}, {'geometry': {'type': 'Polygon', 'coordinates': [[[10.46, 46.18], [10.5, 46.18], [10.5, 46.2], [10.46, 46.19], [10.46, 46.18]]]}}], 'crs': {'type': 'name', 'properties': {'name': '4326'}}}}\n",
      "{'data': ResultReference(from_node='filterspatial1', node=ProcessNode(process_id='filter_spatial', namespace=None, result=False, description=None, arguments={'data': ProcessArgument(__root__=ResultReference(from_node='loadcollection1', node=ProcessNode(process_id='load_collection', namespace=None, result=False, description=None, arguments={'bands': ProcessArgument(__root__=['B02', 'B03', 'B04', 'B05', 'B08']), 'id': ProcessArgument(__root__='boa_sentinel_2'), 'spatial_extent': ProcessArgument(__root__={'west': 10.454955, 'east': 10.573729, 'south': 46.102185, 'north': 46.213657, 'crs': 'EPSG:4326'}), 'temporal_extent': ProcessArgument(__root__=['2019-05-01', '2019-06-01'])}))), 'geometries': ProcessArgument(__root__={'type': 'FeatureCollection', 'features': [{'geometry': {'type': 'Polygon', 'coordinates': [[[10.46, 46.102185], [10.57, 46.102185], [10.57, 46.15], [10.46, 46.13], [10.46, 46.102185]]]}}, {'geometry': {'type': 'Polygon', 'coordinates': [[[10.46, 46.18], [10.5, 46.18], [10.5, 46.2], [10.46, 46.19], [10.46, 46.18]]]}}], 'crs': {'type': 'name', 'properties': {'name': '4326'}}})})), 'format': 'NetCDF', 'options': {}}\n"
     ]
    }
   ],
   "source": [
    "executor = OpenEOExecutor(parsed_graph, process_registry)\n",
    "node_callable = executor._map_node_to_callable(parsed_graph.result_node)"
   ]
  },
  {
   "cell_type": "code",
   "execution_count": 5,
   "metadata": {},
   "outputs": [
    {
     "name": "stdout",
     "output_type": "stream",
     "text": [
      "Ran load_collection with kwargs: {'kwargs': {'bands': ['B02', 'B03', 'B04', 'B05', 'B08'], 'id': 'boa_sentinel_2', 'spatial_extent': {'west': 10.454955, 'east': 10.573729, 'south': 46.102185, 'north': 46.213657, 'crs': 'EPSG:4326'}, 'temporal_extent': ['2019-05-01', '2019-06-01']}}\n",
      "Ran filter_spatial with kwargs: {'kwargs': {'data': 'load_collection', 'geometries': {'type': 'FeatureCollection', 'features': [{'geometry': {'type': 'Polygon', 'coordinates': [[[10.46, 46.102185], [10.57, 46.102185], [10.57, 46.15], [10.46, 46.13], [10.46, 46.102185]]]}}, {'geometry': {'type': 'Polygon', 'coordinates': [[[10.46, 46.18], [10.5, 46.18], [10.5, 46.2], [10.46, 46.19], [10.46, 46.18]]]}}], 'crs': {'type': 'name', 'properties': {'name': '4326'}}}}}\n",
      "Ran save_result with kwargs: {'kwargs': {'data': 'filter_spatial', 'format': 'NetCDF', 'options': {}}}\n"
     ]
    }
   ],
   "source": [
    "node_callable()"
   ]
  },
  {
   "cell_type": "code",
   "execution_count": null,
   "metadata": {},
   "outputs": [],
   "source": []
  }
 ],
 "metadata": {
  "kernelspec": {
   "display_name": "Python 3.8.0 ('eodc-pg-parser-jTODSVWu-py3.8')",
   "language": "python",
   "name": "python3"
  },
  "language_info": {
   "codemirror_mode": {
    "name": "ipython",
    "version": 3
   },
   "file_extension": ".py",
   "mimetype": "text/x-python",
   "name": "python",
   "nbconvert_exporter": "python",
   "pygments_lexer": "ipython3",
   "version": "3.8.0"
  },
  "orig_nbformat": 4,
  "vscode": {
   "interpreter": {
    "hash": "6a44202a4254715fdf9624bcd43c211180d82e438387f2738c64e272728ae865"
   }
  }
 },
 "nbformat": 4,
 "nbformat_minor": 2
}
