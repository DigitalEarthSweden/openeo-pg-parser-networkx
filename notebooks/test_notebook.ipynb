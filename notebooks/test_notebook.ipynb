{
 "cells": [
  {
   "cell_type": "code",
   "execution_count": 1,
   "metadata": {},
   "outputs": [],
   "source": [
    "import networkx as nx\n",
    "import json\n",
    "from eodc_pg_parser.graph import OpenEOProcessGraph\n",
    "\n",
    "from openeo.internal.process_graph_visitor import ProcessGraphVisitor, ProcessGraphUnflattener\n",
    "from eodc_pg_parser.pg_schema import ProcessNode\n",
    "import json"
   ]
  },
  {
   "cell_type": "code",
   "execution_count": 2,
   "metadata": {},
   "outputs": [],
   "source": [
    "flat_graph = json.load(open(\"../tests/data/pg-evi-example.json\", mode=\"r\"))"
   ]
  },
  {
   "cell_type": "code",
   "execution_count": 10,
   "metadata": {},
   "outputs": [
    {
     "name": "stderr",
     "output_type": "stream",
     "text": [
      "Deserialised process graph into nested structure\n"
     ]
    },
    {
     "name": "stdout",
     "output_type": "stream",
     "text": [
      "hello\n"
     ]
    }
   ],
   "source": [
    "parsed_graph = OpenEOProcessGraph(pg_data=flat_graph)\n",
    "print(\"hello\")"
   ]
  },
  {
   "cell_type": "code",
   "execution_count": 11,
   "metadata": {},
   "outputs": [
    {
     "data": {
      "text/plain": [
       "ProcessGraph(process_graph={'root': ProcessNode(process_id='save_result', namespace=None, result=True, description=None, arguments={'data': ProcessArgument(__root__=ResultReference(from_node='mintime', node=ProcessNode(process_id='reduce_dimension', namespace=None, result=False, description='Compute a minimum time composite by reducing the temporal dimension', arguments={'data': ProcessArgument(__root__=ResultReference(from_node='evi', node=ProcessNode(process_id='reduce_dimension', namespace=None, result=False, description='Compute the EVI. Formula: 2.5 * (NIR - RED) / (1 + NIR + 6*RED + -7.5*BLUE)', arguments={'data': ProcessArgument(__root__=ResultReference(from_node='dc', node=ProcessNode(process_id='load_collection', namespace=None, result=False, description='Loading the data', arguments={'id': ProcessArgument(__root__='Sentinel-2'), 'spatial_extent': ProcessArgument(__root__={'west': 16.1, 'east': 16.6, 'north': 48.6, 'south': 47.2}), 'temporal_extent': ProcessArgument(__root__=['2018-01-01', '2018-02-01']), 'bands': ProcessArgument(__root__=['B02', 'B04', 'B08'])}), access_function=<function ResultReference.<lambda> at 0x7f5b91ea0e50>)), 'dimension': ProcessArgument(__root__='bands'), 'reducer': ProcessArgument(__root__=ProcessGraph(process_graph={'m3': ProcessNode(process_id='multiply', namespace=None, result=True, description=None, arguments={'x': ProcessArgument(__root__='2.5'), 'y': ProcessArgument(__root__=ResultReference(from_node='div', node=ProcessNode(process_id='divide', namespace=None, result=False, description=None, arguments={'x': ProcessArgument(__root__=ResultReference(from_node='sub', node=ProcessNode(process_id='subtract', namespace=None, result=False, description=None, arguments={'x': ProcessArgument(__root__=ResultReference(from_node='nir', node=ProcessNode(process_id='array_element', namespace=None, result=False, description=None, arguments={'data': ProcessArgument(__root__=ParameterReference(from_parameter='data')), 'label': ProcessArgument(__root__='B08')}), access_function=<function ResultReference.<lambda> at 0x7f5b91ea0e50>)), 'y': ProcessArgument(__root__=ResultReference(from_node='red', node=ProcessNode(process_id='array_element', namespace=None, result=False, description=None, arguments={'data': ProcessArgument(__root__=ParameterReference(from_parameter='data')), 'label': ProcessArgument(__root__='B04')}), access_function=<function ResultReference.<lambda> at 0x7f5b91ea0e50>))}), access_function=<function ResultReference.<lambda> at 0x7f5b91ea0e50>)), 'y': ProcessArgument(__root__=ResultReference(from_node='sum', node=ProcessNode(process_id='sum', namespace=None, result=False, description=None, arguments={'data': ProcessArgument(__root__=[1, {'from_node': 'nir', 'node': {'process_id': 'array_element', 'arguments': {'data': {'from_parameter': 'data'}, 'label': 'B08'}}}, {'from_node': 'm1', 'node': {'process_id': 'multiply', 'arguments': {'x': 6, 'y': {'from_node': 'red', 'node': {'process_id': 'array_element', 'arguments': {'data': {'from_parameter': 'data'}, 'label': 'B04'}}}}}}, {'from_node': 'm2', 'node': {'process_id': 'multiply', 'arguments': {'x': -7.5, 'y': {'from_node': 'blue', 'node': {'process_id': 'array_element', 'arguments': {'data': {'from_parameter': 'data'}, 'label': 'B02'}}}}}}])}), access_function=<function ResultReference.<lambda> at 0x7f5b91ea0e50>))}), access_function=<function ResultReference.<lambda> at 0x7f5b91ea0e50>))})}, uid=UUID('9e09d390-a99b-402e-9732-c75259ed9e16')))}), access_function=<function ResultReference.<lambda> at 0x7f5b91ea0e50>)), 'dimension': ProcessArgument(__root__='t'), 'reducer': ProcessArgument(__root__=ProcessGraph(process_graph={'min': ProcessNode(process_id='min', namespace=None, result=True, description=None, arguments={'data': ProcessArgument(__root__=ParameterReference(from_parameter='data'))})}, uid=UUID('071ebe6c-aeb9-4327-b690-f933943f80ec')))}), access_function=<function ResultReference.<lambda> at 0x7f5b91ea0e50>)), 'format': ProcessArgument(__root__='GTiff')})}, uid=UUID('bb15bceb-f25b-4cce-a64c-e07fbe36d88e'))"
      ]
     },
     "execution_count": 11,
     "metadata": {},
     "output_type": "execute_result"
    }
   ],
   "source": [
    "parsed_graph.nested_graph"
   ]
  },
  {
   "cell_type": "code",
   "execution_count": 12,
   "metadata": {},
   "outputs": [
    {
     "data": {
      "text/plain": [
       "OutEdgeView([('root-bb15bceb-f25b-4cce-a64c-e07fbe36d88e', 'mintime-bb15bceb-f25b-4cce-a64c-e07fbe36d88e'), ('mintime-bb15bceb-f25b-4cce-a64c-e07fbe36d88e', 'evi-bb15bceb-f25b-4cce-a64c-e07fbe36d88e'), ('mintime-bb15bceb-f25b-4cce-a64c-e07fbe36d88e', 'reducer-071ebe6c-aeb9-4327-b690-f933943f80ec'), ('evi-bb15bceb-f25b-4cce-a64c-e07fbe36d88e', 'dc-bb15bceb-f25b-4cce-a64c-e07fbe36d88e'), ('evi-bb15bceb-f25b-4cce-a64c-e07fbe36d88e', 'reducer-9e09d390-a99b-402e-9732-c75259ed9e16'), ('m3-9e09d390-a99b-402e-9732-c75259ed9e16', 'div-9e09d390-a99b-402e-9732-c75259ed9e16'), ('div-9e09d390-a99b-402e-9732-c75259ed9e16', 'sub-9e09d390-a99b-402e-9732-c75259ed9e16'), ('div-9e09d390-a99b-402e-9732-c75259ed9e16', 'sum-9e09d390-a99b-402e-9732-c75259ed9e16'), ('sub-9e09d390-a99b-402e-9732-c75259ed9e16', 'nir-9e09d390-a99b-402e-9732-c75259ed9e16'), ('sub-9e09d390-a99b-402e-9732-c75259ed9e16', 'red-9e09d390-a99b-402e-9732-c75259ed9e16')])"
      ]
     },
     "execution_count": 12,
     "metadata": {},
     "output_type": "execute_result"
    }
   ],
   "source": [
    "parsed_graph.G.edges"
   ]
  },
  {
   "cell_type": "code",
   "execution_count": 13,
   "metadata": {},
   "outputs": [
    {
     "ename": "NetworkXNoPath",
     "evalue": "No path between root-bb15bceb-f25b-4cce-a64c-e07fbe36d88e and m3-9e09d390-a99b-402e-9732-c75259ed9e16.",
     "output_type": "error",
     "traceback": [
      "\u001b[0;31m---------------------------------------------------------------------------\u001b[0m",
      "\u001b[0;31mNetworkXNoPath\u001b[0m                            Traceback (most recent call last)",
      "\u001b[1;32m/home/luk/repos/eodc-api/eodc-pg-parser/notebooks/test_notebook.ipynb Cell 6\u001b[0m in \u001b[0;36m<cell line: 1>\u001b[0;34m()\u001b[0m\n\u001b[0;32m----> <a href='vscode-notebook-cell://wsl%2Bubuntu/home/luk/repos/eodc-api/eodc-pg-parser/notebooks/test_notebook.ipynb#W5sdnNjb2RlLXJlbW90ZQ%3D%3D?line=0'>1</a>\u001b[0m parsed_graph\u001b[39m.\u001b[39;49mplot()\n",
      "File \u001b[0;32m~/repos/eodc-api/eodc-pg-parser/eodc_pg_parser/graph.py:109\u001b[0m, in \u001b[0;36mOpenEOProcessGraph.plot\u001b[0;34m(self)\u001b[0m\n\u001b[1;32m    107\u001b[0m node_colour_palette \u001b[39m=\u001b[39m [random\u001b[39m.\u001b[39mrandint(\u001b[39m0\u001b[39m, \u001b[39m255\u001b[39m) \u001b[39mfor\u001b[39;00m _ \u001b[39min\u001b[39;00m \u001b[39mrange\u001b[39m(n_colours)]\n\u001b[1;32m    108\u001b[0m edge_colour_palette \u001b[39m=\u001b[39m {PGEdgeType\u001b[39m.\u001b[39mResultReference: \u001b[39m\"\u001b[39m\u001b[39mblue\u001b[39m\u001b[39m\"\u001b[39m, PGEdgeType\u001b[39m.\u001b[39mCallback: \u001b[39m\"\u001b[39m\u001b[39mred\u001b[39m\u001b[39m\"\u001b[39m}\n\u001b[0;32m--> 109\u001b[0m node_colours \u001b[39m=\u001b[39m [node_colour_palette[\u001b[39mself\u001b[39m\u001b[39m.\u001b[39mget_node_depth(node)] \u001b[39mfor\u001b[39;00m node \u001b[39min\u001b[39;00m \u001b[39mself\u001b[39m\u001b[39m.\u001b[39mG\u001b[39m.\u001b[39mnodes]\n\u001b[1;32m    110\u001b[0m edge_colors \u001b[39m=\u001b[39m [edge_colour_palette\u001b[39m.\u001b[39mget(\u001b[39mself\u001b[39m\u001b[39m.\u001b[39mG\u001b[39m.\u001b[39medges[edge][\u001b[39m\"\u001b[39m\u001b[39mreference_type\u001b[39m\u001b[39m\"\u001b[39m], \u001b[39m\"\u001b[39m\u001b[39mgreen\u001b[39m\u001b[39m\"\u001b[39m) \u001b[39mfor\u001b[39;00m edge \u001b[39min\u001b[39;00m \u001b[39mself\u001b[39m\u001b[39m.\u001b[39mG\u001b[39m.\u001b[39medges]\n\u001b[1;32m    112\u001b[0m nx\u001b[39m.\u001b[39mdraw_planar(\n\u001b[1;32m    113\u001b[0m     \u001b[39mself\u001b[39m\u001b[39m.\u001b[39mG,\n\u001b[1;32m    114\u001b[0m     labels\u001b[39m=\u001b[39m{node: node \u001b[39mfor\u001b[39;00m node \u001b[39min\u001b[39;00m \u001b[39mself\u001b[39m\u001b[39m.\u001b[39mG\u001b[39m.\u001b[39mnodes},\n\u001b[0;32m   (...)\u001b[0m\n\u001b[1;32m    118\u001b[0m     edge_color\u001b[39m=\u001b[39medge_colors\n\u001b[1;32m    119\u001b[0m )\n",
      "File \u001b[0;32m~/repos/eodc-api/eodc-pg-parser/eodc_pg_parser/graph.py:109\u001b[0m, in \u001b[0;36m<listcomp>\u001b[0;34m(.0)\u001b[0m\n\u001b[1;32m    107\u001b[0m node_colour_palette \u001b[39m=\u001b[39m [random\u001b[39m.\u001b[39mrandint(\u001b[39m0\u001b[39m, \u001b[39m255\u001b[39m) \u001b[39mfor\u001b[39;00m _ \u001b[39min\u001b[39;00m \u001b[39mrange\u001b[39m(n_colours)]\n\u001b[1;32m    108\u001b[0m edge_colour_palette \u001b[39m=\u001b[39m {PGEdgeType\u001b[39m.\u001b[39mResultReference: \u001b[39m\"\u001b[39m\u001b[39mblue\u001b[39m\u001b[39m\"\u001b[39m, PGEdgeType\u001b[39m.\u001b[39mCallback: \u001b[39m\"\u001b[39m\u001b[39mred\u001b[39m\u001b[39m\"\u001b[39m}\n\u001b[0;32m--> 109\u001b[0m node_colours \u001b[39m=\u001b[39m [node_colour_palette[\u001b[39mself\u001b[39;49m\u001b[39m.\u001b[39;49mget_node_depth(node)] \u001b[39mfor\u001b[39;00m node \u001b[39min\u001b[39;00m \u001b[39mself\u001b[39m\u001b[39m.\u001b[39mG\u001b[39m.\u001b[39mnodes]\n\u001b[1;32m    110\u001b[0m edge_colors \u001b[39m=\u001b[39m [edge_colour_palette\u001b[39m.\u001b[39mget(\u001b[39mself\u001b[39m\u001b[39m.\u001b[39mG\u001b[39m.\u001b[39medges[edge][\u001b[39m\"\u001b[39m\u001b[39mreference_type\u001b[39m\u001b[39m\"\u001b[39m], \u001b[39m\"\u001b[39m\u001b[39mgreen\u001b[39m\u001b[39m\"\u001b[39m) \u001b[39mfor\u001b[39;00m edge \u001b[39min\u001b[39;00m \u001b[39mself\u001b[39m\u001b[39m.\u001b[39mG\u001b[39m.\u001b[39medges]\n\u001b[1;32m    112\u001b[0m nx\u001b[39m.\u001b[39mdraw_planar(\n\u001b[1;32m    113\u001b[0m     \u001b[39mself\u001b[39m\u001b[39m.\u001b[39mG,\n\u001b[1;32m    114\u001b[0m     labels\u001b[39m=\u001b[39m{node: node \u001b[39mfor\u001b[39;00m node \u001b[39min\u001b[39;00m \u001b[39mself\u001b[39m\u001b[39m.\u001b[39mG\u001b[39m.\u001b[39mnodes},\n\u001b[0;32m   (...)\u001b[0m\n\u001b[1;32m    118\u001b[0m     edge_color\u001b[39m=\u001b[39medge_colors\n\u001b[1;32m    119\u001b[0m )\n",
      "File \u001b[0;32m~/repos/eodc-api/eodc-pg-parser/eodc_pg_parser/graph.py:131\u001b[0m, in \u001b[0;36mOpenEOProcessGraph.get_node_depth\u001b[0;34m(self, node)\u001b[0m\n\u001b[1;32m    130\u001b[0m \u001b[39mdef\u001b[39;00m \u001b[39mget_node_depth\u001b[39m(\u001b[39mself\u001b[39m, node):\n\u001b[0;32m--> 131\u001b[0m     \u001b[39mreturn\u001b[39;00m nx\u001b[39m.\u001b[39;49mshortest_path_length(\u001b[39mself\u001b[39;49m\u001b[39m.\u001b[39;49mG, source\u001b[39m=\u001b[39;49m\u001b[39mself\u001b[39;49m\u001b[39m.\u001b[39;49mget_root_node(), target\u001b[39m=\u001b[39;49mnode)\n",
      "File \u001b[0;32m~/.cache/pypoetry/virtualenvs/eodc-pg-parser-PV1XT9nq-py3.9/lib/python3.9/site-packages/networkx/algorithms/shortest_paths/generic.py:307\u001b[0m, in \u001b[0;36mshortest_path_length\u001b[0;34m(G, source, target, weight, method)\u001b[0m\n\u001b[1;32m    304\u001b[0m \u001b[39melse\u001b[39;00m:\n\u001b[1;32m    305\u001b[0m     \u001b[39m# Find shortest source-target path.\u001b[39;00m\n\u001b[1;32m    306\u001b[0m     \u001b[39mif\u001b[39;00m method \u001b[39m==\u001b[39m \u001b[39m\"\u001b[39m\u001b[39munweighted\u001b[39m\u001b[39m\"\u001b[39m:\n\u001b[0;32m--> 307\u001b[0m         p \u001b[39m=\u001b[39m nx\u001b[39m.\u001b[39;49mbidirectional_shortest_path(G, source, target)\n\u001b[1;32m    308\u001b[0m         paths \u001b[39m=\u001b[39m \u001b[39mlen\u001b[39m(p) \u001b[39m-\u001b[39m \u001b[39m1\u001b[39m\n\u001b[1;32m    309\u001b[0m     \u001b[39melif\u001b[39;00m method \u001b[39m==\u001b[39m \u001b[39m\"\u001b[39m\u001b[39mdijkstra\u001b[39m\u001b[39m\"\u001b[39m:\n",
      "File \u001b[0;32m~/.cache/pypoetry/virtualenvs/eodc-pg-parser-PV1XT9nq-py3.9/lib/python3.9/site-packages/networkx/algorithms/shortest_paths/unweighted.py:224\u001b[0m, in \u001b[0;36mbidirectional_shortest_path\u001b[0;34m(G, source, target)\u001b[0m\n\u001b[1;32m    221\u001b[0m     \u001b[39mraise\u001b[39;00m nx\u001b[39m.\u001b[39mNodeNotFound(msg)\n\u001b[1;32m    223\u001b[0m \u001b[39m# call helper to do the real work\u001b[39;00m\n\u001b[0;32m--> 224\u001b[0m results \u001b[39m=\u001b[39m _bidirectional_pred_succ(G, source, target)\n\u001b[1;32m    225\u001b[0m pred, succ, w \u001b[39m=\u001b[39m results\n\u001b[1;32m    227\u001b[0m \u001b[39m# build path from pred+w+succ\u001b[39;00m\n",
      "File \u001b[0;32m~/.cache/pypoetry/virtualenvs/eodc-pg-parser-PV1XT9nq-py3.9/lib/python3.9/site-packages/networkx/algorithms/shortest_paths/unweighted.py:292\u001b[0m, in \u001b[0;36m_bidirectional_pred_succ\u001b[0;34m(G, source, target)\u001b[0m\n\u001b[1;32m    289\u001b[0m                 \u001b[39mif\u001b[39;00m w \u001b[39min\u001b[39;00m pred:  \u001b[39m# found path\u001b[39;00m\n\u001b[1;32m    290\u001b[0m                     \u001b[39mreturn\u001b[39;00m pred, succ, w\n\u001b[0;32m--> 292\u001b[0m \u001b[39mraise\u001b[39;00m nx\u001b[39m.\u001b[39mNetworkXNoPath(\u001b[39mf\u001b[39m\u001b[39m\"\u001b[39m\u001b[39mNo path between \u001b[39m\u001b[39m{\u001b[39;00msource\u001b[39m}\u001b[39;00m\u001b[39m and \u001b[39m\u001b[39m{\u001b[39;00mtarget\u001b[39m}\u001b[39;00m\u001b[39m.\u001b[39m\u001b[39m\"\u001b[39m)\n",
      "\u001b[0;31mNetworkXNoPath\u001b[0m: No path between root-bb15bceb-f25b-4cce-a64c-e07fbe36d88e and m3-9e09d390-a99b-402e-9732-c75259ed9e16."
     ]
    }
   ],
   "source": [
    "parsed_graph.plot()"
   ]
  },
  {
   "cell_type": "code",
   "execution_count": 14,
   "metadata": {},
   "outputs": [
    {
     "data": {
      "text/plain": [
       "{'root-bb15bceb-f25b-4cce-a64c-e07fbe36d88e': {'format': 'GTiff'},\n",
       " 'mintime-bb15bceb-f25b-4cce-a64c-e07fbe36d88e': {'dimension': 't'},\n",
       " 'evi-bb15bceb-f25b-4cce-a64c-e07fbe36d88e': {'dimension': 'bands'},\n",
       " 'dc-bb15bceb-f25b-4cce-a64c-e07fbe36d88e': {'id': 'Sentinel-2',\n",
       "  'spatial_extent': {'west': 16.1, 'east': 16.6, 'north': 48.6, 'south': 47.2},\n",
       "  'temporal_extent': ['2018-01-01', '2018-02-01'],\n",
       "  'bands': ['B02', 'B04', 'B08']},\n",
       " 'm3-9e09d390-a99b-402e-9732-c75259ed9e16': {'x': '2.5'},\n",
       " 'div-9e09d390-a99b-402e-9732-c75259ed9e16': {},\n",
       " 'sub-9e09d390-a99b-402e-9732-c75259ed9e16': {},\n",
       " 'nir-9e09d390-a99b-402e-9732-c75259ed9e16': {'label': 'B08',\n",
       "  'data': ParameterReference(from_parameter='data')},\n",
       " 'red-9e09d390-a99b-402e-9732-c75259ed9e16': {'label': 'B04',\n",
       "  'data': ParameterReference(from_parameter='data')},\n",
       " 'sum-9e09d390-a99b-402e-9732-c75259ed9e16': {'data': [1,\n",
       "   {'from_node': 'nir',\n",
       "    'node': {'process_id': 'array_element',\n",
       "     'arguments': {'data': {'from_parameter': 'data'}, 'label': 'B08'}}},\n",
       "   {'from_node': 'm1',\n",
       "    'node': {'process_id': 'multiply',\n",
       "     'arguments': {'x': 6,\n",
       "      'y': {'from_node': 'red',\n",
       "       'node': {'process_id': 'array_element',\n",
       "        'arguments': {'data': {'from_parameter': 'data'}, 'label': 'B04'}}}}}},\n",
       "   {'from_node': 'm2',\n",
       "    'node': {'process_id': 'multiply',\n",
       "     'arguments': {'x': -7.5,\n",
       "      'y': {'from_node': 'blue',\n",
       "       'node': {'process_id': 'array_element',\n",
       "        'arguments': {'data': {'from_parameter': 'data'},\n",
       "         'label': 'B02'}}}}}}]},\n",
       " 'min-071ebe6c-aeb9-4327-b690-f933943f80ec': {'data': ParameterReference(from_parameter='data')}}"
      ]
     },
     "execution_count": 14,
     "metadata": {},
     "output_type": "execute_result"
    }
   ],
   "source": [
    "nx.get_node_attributes(parsed_graph.G, \"resolved_kwargs\")"
   ]
  },
  {
   "cell_type": "code",
   "execution_count": null,
   "metadata": {},
   "outputs": [],
   "source": [
    "parsed_graph.G.edges(data=True)"
   ]
  },
  {
   "cell_type": "code",
   "execution_count": null,
   "metadata": {},
   "outputs": [],
   "source": [
    "parsed_graph.nodes"
   ]
  },
  {
   "cell_type": "code",
   "execution_count": null,
   "metadata": {},
   "outputs": [],
   "source": [
    "import networkx as nx\n",
    "G = nx.DiGraph()\n",
    "G.add_edge(\"here\", \"there\", reference_type=\"Callback\")"
   ]
  },
  {
   "cell_type": "code",
   "execution_count": null,
   "metadata": {},
   "outputs": [],
   "source": [
    "for u, v, data in G.in_edges(\"here\", data=True):\n",
    "    print(type(u))\n",
    "    print(v)\n",
    "    if data[\"reference_type\"] == \"Callback\":\n",
    "        print(u)\n",
    "        print(v)"
   ]
  },
  {
   "cell_type": "code",
   "execution_count": null,
   "metadata": {},
   "outputs": [],
   "source": []
  }
 ],
 "metadata": {
  "interpreter": {
   "hash": "7e9df96c79a27448c40f028cd3cb796ab94b2743124913fce095f77d43c50ebb"
  },
  "kernelspec": {
   "display_name": "Python 3.9.5 ('eodc-pg-parser-PV1XT9nq-py3.9')",
   "language": "python",
   "name": "python3"
  },
  "language_info": {
   "codemirror_mode": {
    "name": "ipython",
    "version": 3
   },
   "file_extension": ".py",
   "mimetype": "text/x-python",
   "name": "python",
   "nbconvert_exporter": "python",
   "pygments_lexer": "ipython3",
   "version": "3.9.5"
  },
  "orig_nbformat": 4
 },
 "nbformat": 4,
 "nbformat_minor": 2
}
