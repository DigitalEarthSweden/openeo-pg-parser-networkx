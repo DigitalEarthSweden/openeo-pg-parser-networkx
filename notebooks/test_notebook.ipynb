{
 "cells": [
  {
   "cell_type": "code",
   "execution_count": 4,
   "metadata": {},
   "outputs": [],
   "source": [
    "import networkx\n",
    "import json\n",
    "import numpy as np\n",
    "from eodc_pg_parser.graph import *\n",
    "import random"
   ]
  },
  {
   "cell_type": "code",
   "execution_count": 12,
   "metadata": {},
   "outputs": [],
   "source": [
    "pg_path = \"../tests/data/fit_rf_pg_0.json\"\n",
    "pg_1 = json.load(open(pg_path, mode=\"r\"))\n"
   ]
  },
  {
   "cell_type": "code",
   "execution_count": 7,
   "metadata": {},
   "outputs": [],
   "source": [
    "parsed_graph = OpenEOGraph(pg_data=pg_1)"
   ]
  },
  {
   "cell_type": "code",
   "execution_count": 8,
   "metadata": {},
   "outputs": [
    {
     "data": {
      "text/plain": [
       "NodeView(())"
      ]
     },
     "execution_count": 8,
     "metadata": {},
     "output_type": "execute_result"
    }
   ],
   "source": [
    "parsed_graph.G.nodes"
   ]
  },
  {
   "cell_type": "code",
   "execution_count": 9,
   "metadata": {},
   "outputs": [
    {
     "ename": "StopIteration",
     "evalue": "",
     "output_type": "error",
     "traceback": [
      "\u001b[0;31m---------------------------------------------------------------------------\u001b[0m",
      "\u001b[0;31mStopIteration\u001b[0m                             Traceback (most recent call last)",
      "\u001b[1;32m/home/luk/repos/eodc-api/eodc-pg-parser/notebooks/test_notebook.ipynb Cell 5'\u001b[0m in \u001b[0;36m<cell line: 1>\u001b[0;34m()\u001b[0m\n\u001b[0;32m----> <a href='vscode-notebook-cell://wsl%2Bubuntu/home/luk/repos/eodc-api/eodc-pg-parser/notebooks/test_notebook.ipynb#ch0000004vscode-remote?line=0'>1</a>\u001b[0m parsed_graph\u001b[39m.\u001b[39;49mplot()\n",
      "File \u001b[0;32m~/repos/eodc-api/eodc-pg-parser/eodc_pg_parser/graph.py:44\u001b[0m, in \u001b[0;36mplot\u001b[0;34m(self)\u001b[0m\n\u001b[1;32m     <a href='file:///home/luk/repos/eodc-api/eodc-pg-parser/eodc_pg_parser/graph.py?line=41'>42</a>\u001b[0m #         node_data = d[\"data\"].copy()\n\u001b[1;32m     <a href='file:///home/luk/repos/eodc-api/eodc-pg-parser/eodc_pg_parser/graph.py?line=42'>43</a>\u001b[0m #         node = d[\"data\"][\"value\"]\n\u001b[0;32m---> <a href='file:///home/luk/repos/eodc-api/eodc-pg-parser/eodc_pg_parser/graph.py?line=43'>44</a>\u001b[0m \n\u001b[1;32m     <a href='file:///home/luk/repos/eodc-api/eodc-pg-parser/eodc_pg_parser/graph.py?line=44'>45</a>\u001b[0m #         if d[\"data\"].get(name):\n\u001b[1;32m     <a href='file:///home/luk/repos/eodc-api/eodc-pg-parser/eodc_pg_parser/graph.py?line=45'>46</a>\u001b[0m #             node_data[name] = d[\"data\"].get(name)\n",
      "File \u001b[0;32m~/repos/eodc-api/eodc-pg-parser/eodc_pg_parser/graph.py:52\u001b[0m, in \u001b[0;36mget_root_node\u001b[0;34m(self)\u001b[0m\n\u001b[1;32m     <a href='file:///home/luk/repos/eodc-api/eodc-pg-parser/eodc_pg_parser/graph.py?line=49'>50</a>\u001b[0m #         graph.add_node(node)\n\u001b[1;32m     <a href='file:///home/luk/repos/eodc-api/eodc-pg-parser/eodc_pg_parser/graph.py?line=50'>51</a>\u001b[0m #         graph.nodes[node].update(node_data)\n\u001b[0;32m---> <a href='file:///home/luk/repos/eodc-api/eodc-pg-parser/eodc_pg_parser/graph.py?line=51'>52</a>\u001b[0m \n\u001b[1;32m     <a href='file:///home/luk/repos/eodc-api/eodc-pg-parser/eodc_pg_parser/graph.py?line=52'>53</a>\u001b[0m #     for d in data[\"elements\"][\"edges\"]:\n\u001b[1;32m     <a href='file:///home/luk/repos/eodc-api/eodc-pg-parser/eodc_pg_parser/graph.py?line=53'>54</a>\u001b[0m #         edge_data = d[\"data\"].copy()\n",
      "\u001b[0;31mStopIteration\u001b[0m: "
     ]
    }
   ],
   "source": [
    "parsed_graph.plot()"
   ]
  },
  {
   "cell_type": "code",
   "execution_count": 1,
   "metadata": {},
   "outputs": [],
   "source": [
    "from openeo.internal.process_graph_visitor import ProcessGraphVisitor"
   ]
  },
  {
   "cell_type": "code",
   "execution_count": 13,
   "metadata": {},
   "outputs": [],
   "source": [
    "pg_visitor = ProcessGraphVisitor()\n"
   ]
  },
  {
   "cell_type": "code",
   "execution_count": 14,
   "metadata": {},
   "outputs": [],
   "source": [
    "graph = pg_visitor.accept_process_graph(pg_1[\"process_graph\"])"
   ]
  },
  {
   "cell_type": "code",
   "execution_count": 17,
   "metadata": {},
   "outputs": [
    {
     "data": {
      "text/plain": [
       "{'loadcollection1': {'process_id': 'load_collection',\n",
       "  'arguments': {'bands': ['B02', 'B03', 'B04', 'B08'],\n",
       "   'id': 'boa_sentinel_2',\n",
       "   'spatial_extent': {'east': 9.992539570642537,\n",
       "    'north': 47.73255902176489,\n",
       "    'south': 46.82379186182021,\n",
       "    'west': 8.259091264204697},\n",
       "   'temporal_extent': ['2018-05-01', '2018-09-01']}},\n",
       " 'reducedimension1': {'process_id': 'reduce_dimension',\n",
       "  'arguments': {'data': {'from_node': 'loadcollection1',\n",
       "    'node': {'process_id': 'load_collection',\n",
       "     'arguments': {'bands': ['B02', 'B03', 'B04', 'B08'],\n",
       "      'id': 'boa_sentinel_2',\n",
       "      'spatial_extent': {'east': 9.992539570642537,\n",
       "       'north': 47.73255902176489,\n",
       "       'south': 46.82379186182021,\n",
       "       'west': 8.259091264204697},\n",
       "      'temporal_extent': ['2018-05-01', '2018-09-01']}}},\n",
       "   'dimension': 't',\n",
       "   'reducer': {'process_graph': {'median1': {'process_id': 'median',\n",
       "      'arguments': {'data': {'from_parameter': 'data'}},\n",
       "      'result': True}}}}},\n",
       " 'loadvectorcube1': {'process_id': 'load_vector_cube',\n",
       "  'arguments': {'URL': 'https://raw.githubusercontent.com/LukeWeidenwalker/SRR3_clustered_geojsons/master/AOI_clustered_distance_2/cluster_3.geojson'}},\n",
       " 'aggregatespatial1': {'process_id': 'aggregate_spatial',\n",
       "  'arguments': {'data': {'from_node': 'reducedimension1',\n",
       "    'node': {'process_id': 'reduce_dimension',\n",
       "     'arguments': {'data': {'from_node': 'loadcollection1',\n",
       "       'node': {'process_id': 'load_collection',\n",
       "        'arguments': {'bands': ['B02', 'B03', 'B04', 'B08'],\n",
       "         'id': 'boa_sentinel_2',\n",
       "         'spatial_extent': {'east': 9.992539570642537,\n",
       "          'north': 47.73255902176489,\n",
       "          'south': 46.82379186182021,\n",
       "          'west': 8.259091264204697},\n",
       "         'temporal_extent': ['2018-05-01', '2018-09-01']}}},\n",
       "      'dimension': 't',\n",
       "      'reducer': {'process_graph': {'median1': {'process_id': 'median',\n",
       "         'arguments': {'data': {'from_parameter': 'data'}},\n",
       "         'result': True}}}}}},\n",
       "   'geometries': {'from_node': 'loadvectorcube1',\n",
       "    'node': {'process_id': 'load_vector_cube',\n",
       "     'arguments': {'URL': 'https://raw.githubusercontent.com/LukeWeidenwalker/SRR3_clustered_geojsons/master/AOI_clustered_distance_2/cluster_3.geojson'}}},\n",
       "   'reducer': 'mean',\n",
       "   'target_dimension': 'result'}},\n",
       " 'fitregrrandomforest1': {'process_id': 'fit_regr_random_forest',\n",
       "  'arguments': {'data': {'from_node': 'aggregatespatial1',\n",
       "    'node': {'process_id': 'aggregate_spatial',\n",
       "     'arguments': {'data': {'from_node': 'reducedimension1',\n",
       "       'node': {'process_id': 'reduce_dimension',\n",
       "        'arguments': {'data': {'from_node': 'loadcollection1',\n",
       "          'node': {'process_id': 'load_collection',\n",
       "           'arguments': {'bands': ['B02', 'B03', 'B04', 'B08'],\n",
       "            'id': 'boa_sentinel_2',\n",
       "            'spatial_extent': {'east': 9.992539570642537,\n",
       "             'north': 47.73255902176489,\n",
       "             'south': 46.82379186182021,\n",
       "             'west': 8.259091264204697},\n",
       "            'temporal_extent': ['2018-05-01', '2018-09-01']}}},\n",
       "         'dimension': 't',\n",
       "         'reducer': {'process_graph': {'median1': {'process_id': 'median',\n",
       "            'arguments': {'data': {'from_parameter': 'data'}},\n",
       "            'result': True}}}}}},\n",
       "      'geometries': {'from_node': 'loadvectorcube1',\n",
       "       'node': {'process_id': 'load_vector_cube',\n",
       "        'arguments': {'URL': 'https://raw.githubusercontent.com/LukeWeidenwalker/SRR3_clustered_geojsons/master/AOI_clustered_distance_2/cluster_3.geojson'}}},\n",
       "      'reducer': 'mean',\n",
       "      'target_dimension': 'result'}}},\n",
       "   'max_variables': None,\n",
       "   'num_trees': 100,\n",
       "   'predictors_vars': ['B02', 'B03', 'B04', 'B08'],\n",
       "   'seed': 0,\n",
       "   'target_var': 'target_canopy_cover'}},\n",
       " 'savemlmodel1': {'process_id': 'save_ml_model',\n",
       "  'arguments': {'model': {'from_node': 'fitregrrandomforest1',\n",
       "    'node': {'process_id': 'fit_regr_random_forest',\n",
       "     'arguments': {'data': {'from_node': 'aggregatespatial1',\n",
       "       'node': {'process_id': 'aggregate_spatial',\n",
       "        'arguments': {'data': {'from_node': 'reducedimension1',\n",
       "          'node': {'process_id': 'reduce_dimension',\n",
       "           'arguments': {'data': {'from_node': 'loadcollection1',\n",
       "             'node': {'process_id': 'load_collection',\n",
       "              'arguments': {'bands': ['B02', 'B03', 'B04', 'B08'],\n",
       "               'id': 'boa_sentinel_2',\n",
       "               'spatial_extent': {'east': 9.992539570642537,\n",
       "                'north': 47.73255902176489,\n",
       "                'south': 46.82379186182021,\n",
       "                'west': 8.259091264204697},\n",
       "               'temporal_extent': ['2018-05-01', '2018-09-01']}}},\n",
       "            'dimension': 't',\n",
       "            'reducer': {'process_graph': {'median1': {'process_id': 'median',\n",
       "               'arguments': {'data': {'from_parameter': 'data'}},\n",
       "               'result': True}}}}}},\n",
       "         'geometries': {'from_node': 'loadvectorcube1',\n",
       "          'node': {'process_id': 'load_vector_cube',\n",
       "           'arguments': {'URL': 'https://raw.githubusercontent.com/LukeWeidenwalker/SRR3_clustered_geojsons/master/AOI_clustered_distance_2/cluster_3.geojson'}}},\n",
       "         'reducer': 'mean',\n",
       "         'target_dimension': 'result'}}},\n",
       "      'max_variables': None,\n",
       "      'num_trees': 100,\n",
       "      'predictors_vars': ['B02', 'B03', 'B04', 'B08'],\n",
       "      'seed': 0,\n",
       "      'target_var': 'target_canopy_cover'}}}},\n",
       "  'result': True}}"
      ]
     },
     "execution_count": 17,
     "metadata": {},
     "output_type": "execute_result"
    }
   ],
   "source": [
    "pg_1[\"process_graph\"]"
   ]
  },
  {
   "cell_type": "code",
   "execution_count": 16,
   "metadata": {},
   "outputs": [
    {
     "data": {
      "text/plain": [
       "[]"
      ]
     },
     "execution_count": 16,
     "metadata": {},
     "output_type": "execute_result"
    }
   ],
   "source": [
    "graph.process_stack"
   ]
  },
  {
   "cell_type": "code",
   "execution_count": null,
   "metadata": {},
   "outputs": [],
   "source": []
  }
 ],
 "metadata": {
  "interpreter": {
   "hash": "7e9df96c79a27448c40f028cd3cb796ab94b2743124913fce095f77d43c50ebb"
  },
  "kernelspec": {
   "display_name": "Python 3.9.5 ('eodc-pg-parser-PV1XT9nq-py3.9')",
   "language": "python",
   "name": "python3"
  },
  "language_info": {
   "codemirror_mode": {
    "name": "ipython",
    "version": 3
   },
   "file_extension": ".py",
   "mimetype": "text/x-python",
   "name": "python",
   "nbconvert_exporter": "python",
   "pygments_lexer": "ipython3",
   "version": "3.9.5"
  },
  "orig_nbformat": 4
 },
 "nbformat": 4,
 "nbformat_minor": 2
}
