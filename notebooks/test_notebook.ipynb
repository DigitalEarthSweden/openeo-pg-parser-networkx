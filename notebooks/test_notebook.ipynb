{
 "cells": [
  {
   "cell_type": "code",
   "execution_count": 1,
   "metadata": {},
   "outputs": [
    {
     "ename": "ImportError",
     "evalue": "cannot import name 'PGNodeData' from 'eodc_pg_parser.pg_schema' (/home/luk/repos/eodc-api/eodc-pg-parser/eodc_pg_parser/pg_schema.py)",
     "output_type": "error",
     "traceback": [
      "\u001b[0;31m---------------------------------------------------------------------------\u001b[0m",
      "\u001b[0;31mImportError\u001b[0m                               Traceback (most recent call last)",
      "\u001b[1;32m/home/luk/repos/eodc-api/eodc-pg-parser/notebooks/test_notebook.ipynb Cell 1\u001b[0m in \u001b[0;36m<cell line: 6>\u001b[0;34m()\u001b[0m\n\u001b[1;32m      <a href='vscode-notebook-cell://wsl%2Bubuntu/home/luk/repos/eodc-api/eodc-pg-parser/notebooks/test_notebook.ipynb#W0sdnNjb2RlLXJlbW90ZQ%3D%3D?line=2'>3</a>\u001b[0m \u001b[39mfrom\u001b[39;00m \u001b[39meodc_pg_parser\u001b[39;00m\u001b[39m.\u001b[39;00m\u001b[39mgraph\u001b[39;00m \u001b[39mimport\u001b[39;00m OpenEOProcessGraph\n\u001b[1;32m      <a href='vscode-notebook-cell://wsl%2Bubuntu/home/luk/repos/eodc-api/eodc-pg-parser/notebooks/test_notebook.ipynb#W0sdnNjb2RlLXJlbW90ZQ%3D%3D?line=4'>5</a>\u001b[0m \u001b[39mfrom\u001b[39;00m \u001b[39mopeneo\u001b[39;00m\u001b[39m.\u001b[39;00m\u001b[39minternal\u001b[39;00m\u001b[39m.\u001b[39;00m\u001b[39mprocess_graph_visitor\u001b[39;00m \u001b[39mimport\u001b[39;00m ProcessGraphVisitor, ProcessGraphUnflattener\n\u001b[0;32m----> <a href='vscode-notebook-cell://wsl%2Bubuntu/home/luk/repos/eodc-api/eodc-pg-parser/notebooks/test_notebook.ipynb#W0sdnNjb2RlLXJlbW90ZQ%3D%3D?line=5'>6</a>\u001b[0m \u001b[39mfrom\u001b[39;00m \u001b[39meodc_pg_parser\u001b[39;00m\u001b[39m.\u001b[39;00m\u001b[39mpg_schema\u001b[39;00m \u001b[39mimport\u001b[39;00m ProcessNode, PGNodeData\n\u001b[1;32m      <a href='vscode-notebook-cell://wsl%2Bubuntu/home/luk/repos/eodc-api/eodc-pg-parser/notebooks/test_notebook.ipynb#W0sdnNjb2RlLXJlbW90ZQ%3D%3D?line=6'>7</a>\u001b[0m \u001b[39mimport\u001b[39;00m \u001b[39mjson\u001b[39;00m\n",
      "\u001b[0;31mImportError\u001b[0m: cannot import name 'PGNodeData' from 'eodc_pg_parser.pg_schema' (/home/luk/repos/eodc-api/eodc-pg-parser/eodc_pg_parser/pg_schema.py)"
     ]
    }
   ],
   "source": [
    "import networkx as nx\n",
    "import json\n",
    "from eodc_pg_parser.graph import OpenEOProcessGraph\n",
    "\n",
    "from openeo.internal.process_graph_visitor import ProcessGraphVisitor, ProcessGraphUnflattener\n",
    "from eodc_pg_parser.pg_schema import ProcessNode\n",
    "import json"
   ]
  },
  {
   "cell_type": "code",
   "execution_count": 3,
   "metadata": {},
   "outputs": [],
   "source": [
    "flat_graph = json.load(open(\"../tests/data/pg-evi-example.json\", mode=\"r\"))"
   ]
  },
  {
   "cell_type": "code",
   "execution_count": 12,
   "metadata": {},
   "outputs": [
    {
     "name": "stderr",
     "output_type": "stream",
     "text": [
      "Deserialised process graph into nested structure\n"
     ]
    }
   ],
   "source": [
    "parsed_graph = OpenEOProcessGraph(pg_data=flat_graph)\n",
    "print(\"hello\")"
   ]
  },
  {
   "cell_type": "code",
   "execution_count": 10,
   "metadata": {},
   "outputs": [
    {
     "data": {
      "text/plain": [
       "OutEdgeView([('save_result', 'mintime'), ('mintime', 'evi'), ('mintime', 'min'), ('evi', 'dc'), ('evi', 'm3'), ('m3', 'div'), ('div', 'sub'), ('div', 'sum'), ('sub', 'nir'), ('sub', 'red'), ('nir', 'dc'), ('red', 'dc'), ('min', 'evi')])"
      ]
     },
     "execution_count": 10,
     "metadata": {},
     "output_type": "execute_result"
    }
   ],
   "source": [
    "parsed_graph.G.edges"
   ]
  },
  {
   "cell_type": "code",
   "execution_count": 11,
   "metadata": {},
   "outputs": [
    {
     "data": {
      "image/png": "[encoded data removed]",
      "text/plain": [
       "<Figure size 432x288 with 1 Axes>"
      ]
     },
     "metadata": {},
     "output_type": "display_data"
    }
   ],
   "source": [
    "parsed_graph.plot()"
   ]
  },
  {
   "cell_type": "code",
   "execution_count": 6,
   "metadata": {},
   "outputs": [
    {
     "data": {
      "text/plain": [
       "{'save_result': {'format': 'GTiff'},\n",
       " 'mintime': {'dimension': 't'},\n",
       " 'evi': {'dimension': 'bands'},\n",
       " 'dc': {'id': 'Sentinel-2',\n",
       "  'spatial_extent': {'west': 16.1, 'east': 16.6, 'north': 48.6, 'south': 47.2},\n",
       "  'temporal_extent': ['2018-01-01', '2018-02-01'],\n",
       "  'bands': ['B02', 'B04', 'B08']},\n",
       " 'nir': {'label': 'B08'},\n",
       " 'min': {}}"
      ]
     },
     "execution_count": 6,
     "metadata": {},
     "output_type": "execute_result"
    }
   ],
   "source": [
    "nx.get_node_attributes(parsed_graph.G, \"resolved_kwargs\")"
   ]
  },
  {
   "cell_type": "code",
   "execution_count": 11,
   "metadata": {},
   "outputs": [
    {
     "data": {
      "text/plain": [
       "OutEdgeDataView([('save_result', 'mintime', {'reference_type': 'ResultReference', 'arg_name': 'data'}), ('mintime', 'evi', {'reference_type': 'ResultReference', 'arg_name': 'data'}), ('mintime', 'min', {'reference_type': 'Callback', 'arg_name': 'reducer'}), ('evi', 'dc', {'reference_type': 'ResultReference', 'arg_name': 'data'}), ('evi', 'nir', {'reference_type': 'Callback', 'arg_name': 'reducer'}), ('nir', 'evi', {'reference_type': 'ResultReference', 'arg_name': 'data'}), ('min', 'mintime', {'reference_type': 'ResultReference', 'arg_name': 'data'})])"
      ]
     },
     "execution_count": 11,
     "metadata": {},
     "output_type": "execute_result"
    }
   ],
   "source": [
    "parsed_graph.G.edges(data=True)"
   ]
  },
  {
   "cell_type": "code",
   "execution_count": 7,
   "metadata": {},
   "outputs": [
    {
     "data": {
      "text/plain": [
       "[('save_result', {'resolved_kwargs': {'format': 'GTiff'}}),\n",
       " ('mintime', {'resolved_kwargs': {'dimension': 't'}}),\n",
       " ('evi', {'resolved_kwargs': {'dimension': 'bands'}}),\n",
       " ('dc',\n",
       "  {'resolved_kwargs': {'id': 'Sentinel-2',\n",
       "    'spatial_extent': {'west': 16.1,\n",
       "     'east': 16.6,\n",
       "     'north': 48.6,\n",
       "     'south': 47.2},\n",
       "    'temporal_extent': ['2018-01-01', '2018-02-01'],\n",
       "    'bands': ['B02', 'B04', 'B08']}}),\n",
       " ('nir', {'resolved_kwargs': {'label': 'B08'}}),\n",
       " ('min', {'resolved_kwargs': {}})]"
      ]
     },
     "execution_count": 7,
     "metadata": {},
     "output_type": "execute_result"
    }
   ],
   "source": [
    "parsed_graph.nodes"
   ]
  },
  {
   "cell_type": "code",
   "execution_count": 4,
   "metadata": {},
   "outputs": [],
   "source": [
    "import networkx as nx\n",
    "G = nx.DiGraph()\n",
    "G.add_edge(\"here\", \"there\", reference_type=\"Callback\")"
   ]
  },
  {
   "cell_type": "code",
   "execution_count": 12,
   "metadata": {},
   "outputs": [],
   "source": [
    "for u, v, data in G.in_edges(\"here\", data=True):\n",
    "    print(type(u))\n",
    "    print(v)\n",
    "    if data[\"reference_type\"] == \"Callback\":\n",
    "        print(u)\n",
    "        print(v)"
   ]
  },
  {
   "cell_type": "code",
   "execution_count": 9,
   "metadata": {},
   "outputs": [
    {
     "name": "stderr",
     "output_type": "stream",
     "text": [
      "[autoreload of eodc_pg_parser.pg_schema failed: Traceback (most recent call last):\n",
      "  File \"/home/luk/.cache/pypoetry/virtualenvs/eodc-pg-parser-PV1XT9nq-py3.9/lib/python3.9/site-packages/IPython/extensions/autoreload.py\", line 257, in check\n",
      "    superreload(m, reload, self.old_objects)\n",
      "  File \"/home/luk/.cache/pypoetry/virtualenvs/eodc-pg-parser-PV1XT9nq-py3.9/lib/python3.9/site-packages/IPython/extensions/autoreload.py\", line 480, in superreload\n",
      "    update_generic(old_obj, new_obj)\n",
      "  File \"/home/luk/.cache/pypoetry/virtualenvs/eodc-pg-parser-PV1XT9nq-py3.9/lib/python3.9/site-packages/IPython/extensions/autoreload.py\", line 377, in update_generic\n",
      "    update(a, b)\n",
      "  File \"/home/luk/.cache/pypoetry/virtualenvs/eodc-pg-parser-PV1XT9nq-py3.9/lib/python3.9/site-packages/IPython/extensions/autoreload.py\", line 345, in update_class\n",
      "    update_instances(old, new)\n",
      "  File \"/home/luk/.cache/pypoetry/virtualenvs/eodc-pg-parser-PV1XT9nq-py3.9/lib/python3.9/site-packages/IPython/extensions/autoreload.py\", line 303, in update_instances\n",
      "    ref.__class__ = new\n",
      "  File \"pydantic/main.py\", line 357, in pydantic.main.BaseModel.__setattr__\n",
      "ValueError: \"PGNodeData\" object has no field \"__class__\"\n",
      "]\n"
     ]
    }
   ],
   "source": [
    "import networkx as nx\n",
    "from eodc_pg_parser.pg_schema import PGNodeData\n"
   ]
  },
  {
   "cell_type": "code",
   "execution_count": 11,
   "metadata": {},
   "outputs": [
    {
     "name": "stdout",
     "output_type": "stream",
     "text": [
      "-1602397446551786894\n",
      "-1602397446551786894\n",
      "-1602397446551786894\n",
      "-1602397446551786894\n"
     ]
    }
   ],
   "source": [
    "test_G = nx.DiGraph()\n",
    "test_G.add_node(PGNodeData(node_id=\"1\", process_id=\"hello\"))\n"
   ]
  },
  {
   "cell_type": "code",
   "execution_count": 15,
   "metadata": {},
   "outputs": [
    {
     "name": "stdout",
     "output_type": "stream",
     "text": [
      "-1602397446551786894\n"
     ]
    },
    {
     "data": {
      "text/plain": [
       "{}"
      ]
     },
     "execution_count": 15,
     "metadata": {},
     "output_type": "execute_result"
    }
   ],
   "source": [
    "for u,outer_d in test_G.nodes(data=True):\n",
    "    print u."
   ]
  },
  {
   "cell_type": "code",
   "execution_count": 13,
   "metadata": {},
   "outputs": [
    {
     "ename": "AttributeError",
     "evalue": "'DiGraph' object has no attribute 'plot'",
     "output_type": "error",
     "traceback": [
      "\u001b[0;31m---------------------------------------------------------------------------\u001b[0m",
      "\u001b[0;31mAttributeError\u001b[0m                            Traceback (most recent call last)",
      "\u001b[1;32m/home/luk/repos/eodc-api/eodc-pg-parser/notebooks/test_notebook.ipynb Cell 14\u001b[0m in \u001b[0;36m<cell line: 1>\u001b[0;34m()\u001b[0m\n\u001b[0;32m----> <a href='vscode-notebook-cell://wsl%2Bubuntu/home/luk/repos/eodc-api/eodc-pg-parser/notebooks/test_notebook.ipynb#X16sdnNjb2RlLXJlbW90ZQ%3D%3D?line=0'>1</a>\u001b[0m test_G\u001b[39m.\u001b[39;49mplot()\n",
      "\u001b[0;31mAttributeError\u001b[0m: 'DiGraph' object has no attribute 'plot'"
     ]
    }
   ],
   "source": []
  },
  {
   "cell_type": "code",
   "execution_count": null,
   "metadata": {},
   "outputs": [],
   "source": []
  }
 ],
 "metadata": {
  "interpreter": {
   "hash": "7e9df96c79a27448c40f028cd3cb796ab94b2743124913fce095f77d43c50ebb"
  },
  "kernelspec": {
   "display_name": "Python 3.9.5 ('eodc-pg-parser-PV1XT9nq-py3.9')",
   "language": "python",
   "name": "python3"
  },
  "language_info": {
   "codemirror_mode": {
    "name": "ipython",
    "version": 3
   },
   "file_extension": ".py",
   "mimetype": "text/x-python",
   "name": "python",
   "nbconvert_exporter": "python",
   "pygments_lexer": "ipython3",
   "version": "3.9.5"
  },
  "orig_nbformat": 4
 },
 "nbformat": 4,
 "nbformat_minor": 2
}
