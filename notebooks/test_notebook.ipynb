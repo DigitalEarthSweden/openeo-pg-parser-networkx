{
 "cells": [
  {
   "cell_type": "code",
   "execution_count": null,
   "metadata": {},
   "outputs": [],
   "source": [
    "import networkx as nx\n",
    "import json\n",
    "from eodc_pg_parser.graph import OpenEOProcessGraph\n",
    "\n",
    "from openeo.internal.process_graph_visitor import ProcessGraphVisitor, ProcessGraphUnflattener\n",
    "from eodc_pg_parser.pg_schema import ProcessNode, ResultReference, PGEdgeType\n",
    "import json"
   ]
  },
  {
   "cell_type": "code",
   "execution_count": null,
   "metadata": {},
   "outputs": [],
   "source": [
    "flat_graph = json.load(open(\"../tests/data/pg-evi-example.json\", mode=\"r\"))\n",
    "parsed_graph = OpenEOProcessGraph(pg_data=flat_graph)\n"
   ]
  },
  {
   "cell_type": "code",
   "execution_count": null,
   "metadata": {},
   "outputs": [],
   "source": [
    "parsed_graph.plot()"
   ]
  },
  {
   "cell_type": "code",
   "execution_count": null,
   "metadata": {},
   "outputs": [],
   "source": [
    "parsed_graph.G.nodes"
   ]
  },
  {
   "cell_type": "code",
   "execution_count": null,
   "metadata": {},
   "outputs": [],
   "source": [
    "nx.get_node_attributes(parsed_graph.G, \"resolved_kwargs\")"
   ]
  },
  {
   "cell_type": "code",
   "execution_count": null,
   "metadata": {},
   "outputs": [],
   "source": [
    "for edge in parsed_graph.G.edges(data=True):\n",
    "    print(edge)"
   ]
  },
  {
   "cell_type": "markdown",
   "metadata": {},
   "source": [
    "## Experiments"
   ]
  },
  {
   "cell_type": "code",
   "execution_count": null,
   "metadata": {},
   "outputs": [],
   "source": [
    "import inspect\n",
    "\n",
    "for edge in parsed_graph.G.out_edges:\n",
    "    print(\"----------------------------------------------\")\n",
    "    if parsed_graph.G.edges[edge][\"reference_type\"] == PGEdgeType.ResultReference:\n",
    "        node_where_parameter_belongs_to = parsed_graph.G.nodes[edge[0]]\n",
    "\n",
    "        for arg_sub in parsed_graph.G.edges[edge][\"arg_substitutions\"]:\n",
    "            arg_sub.access_func(new_value=\"please_change\")\n",
    "\n",
    "print(parsed_graph.G.nodes(data=True))\n"
   ]
  },
  {
   "cell_type": "code",
   "execution_count": null,
   "metadata": {},
   "outputs": [],
   "source": [
    "{node: node_name for node, node_name in nx.get_node_attributes(parsed_graph.G, \"node_name\").items()}"
   ]
  },
  {
   "cell_type": "code",
   "execution_count": null,
   "metadata": {},
   "outputs": [],
   "source": [
    "import networkx as nx\n",
    "G = nx.DiGraph()\n",
    "G.add_edge(\"here\", \"there\", reference_type=\"Callback\")\n",
    "G.add_edge(\"here\", \"there\", reference_type=\"Callback\", tryout=\"hello\")\n",
    "G.add_edge(\"here\", \"there\", reference_type=\"Callback\", tryout=\"hehe\")\n",
    "\n",
    "G.edges(data=True)"
   ]
  },
  {
   "cell_type": "code",
   "execution_count": null,
   "metadata": {},
   "outputs": [],
   "source": [
    "\"hfere\" in G"
   ]
  },
  {
   "cell_type": "code",
   "execution_count": null,
   "metadata": {},
   "outputs": [],
   "source": [
    "for u, v, data in G.out_edges(\"here\", data=True):\n",
    "    print(type(u))\n",
    "    print(v)\n",
    "    if data[\"reference_type\"] == \"Callback\":\n",
    "        print(u)\n",
    "        print(v)"
   ]
  },
  {
   "cell_type": "code",
   "execution_count": null,
   "metadata": {},
   "outputs": [],
   "source": []
  }
 ],
 "metadata": {
  "interpreter": {
   "hash": "7e9df96c79a27448c40f028cd3cb796ab94b2743124913fce095f77d43c50ebb"
  },
  "kernelspec": {
   "display_name": "Python 3.9.5 ('eodc-pg-parser-PV1XT9nq-py3.9')",
   "language": "python",
   "name": "python3"
  },
  "language_info": {
   "codemirror_mode": {
    "name": "ipython",
    "version": 3
   },
   "file_extension": ".py",
   "mimetype": "text/x-python",
   "name": "python",
   "nbconvert_exporter": "python",
   "pygments_lexer": "ipython3",
   "version": "3.9.5"
  },
  "orig_nbformat": 4
 },
 "nbformat": 4,
 "nbformat_minor": 2
}
